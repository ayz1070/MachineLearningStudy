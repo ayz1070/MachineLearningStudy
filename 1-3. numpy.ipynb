{
 "cells": [
  {
   "cell_type": "code",
   "execution_count": 1,
   "id": "28b01cc0",
   "metadata": {},
   "outputs": [
    {
     "name": "stdout",
     "output_type": "stream",
     "text": [
      "array1 type: <class 'numpy.ndarray'>\n",
      "array1 array 형태: (3,)\n",
      "array2 type: <class 'numpy.ndarray'>\n",
      "array2 array 형태: (2, 3)\n",
      "array3 type: <class 'numpy.ndarray'>\n",
      "array3 array 형태: (1, 3)\n",
      "array1: 1차원, array2: 2차원, array3:  2차원\n"
     ]
    }
   ],
   "source": [
    "# NumPy(numerical python) : 파이썬에서 선형대수 기반의 프로그램을 쉽게 만들 수 있도록 지원하는 패키지\n",
    "\n",
    "import numpy as np\n",
    "\n",
    "# 1차원 배열\n",
    "array1 = np.array([1,2,3])\n",
    "print('array1 type:',type(array1))\n",
    "print('array1 array 형태:',array1.shape)\n",
    "\n",
    "# 2차원 배열\n",
    "array2 = np.array([[1,2,3],\n",
    "                  [2,3,4]])\n",
    "print('array2 type:',type(array2))\n",
    "print('array2 array 형태:',array2.shape)\n",
    "\n",
    "array3 = np.array([[1,2,3]])     # 1행 3열인 2차원 배열. 차이점은 [[]]\n",
    "print('array3 type:',type(array3))\n",
    "print('array3 array 형태:',array3.shape)\n",
    "\n",
    "print('array1: {:0}차원, array2: {:1}차원, array3: {:2}차원'.format(array1.ndim,array2.ndim,array3.ndim))\n",
    "\n"
   ]
  },
  {
   "cell_type": "code",
   "execution_count": 5,
   "id": "5421a317",
   "metadata": {},
   "outputs": [
    {
     "name": "stdout",
     "output_type": "stream",
     "text": [
      "<class 'list'>\n",
      "<class 'numpy.ndarray'>\n",
      "[1 2 3] int32\n",
      "['1' '2' 'test'] <U11\n",
      "[1. 2. 3.] float64\n",
      "[1. 2. 3.] float64\n",
      "[1 2 3] int32\n",
      "[1 2 3] int32\n"
     ]
    }
   ],
   "source": [
    "# ndarray의 데이터 타입\n",
    "# ndarray내의 데이터 타입은 같은 데이터 타입만 가능\n",
    "\n",
    "list1=[1,2,3]\n",
    "print(type(list1))\n",
    "array1=np.array(list1)\n",
    "print(type(array1))\n",
    "print(array1, array1.dtype)\n",
    "\n",
    "# 다른 데이터 유형이 섞여 있는 리스트를 ndarray 변환 시 더 큰 데이터 타입으로 형 변환\n",
    "list2=[1,2,'test']    # 문자열의 데이터 타입이 더 크므로 1은 '1'로 형 변환\n",
    "array2=np.array(list2)\n",
    "print(array2,array2.dtype)\n",
    "\n",
    "list3=[1,2,3.0]    # 마찬가지로 실수형이 더 크므로 1이 1.0으로 변한다.\n",
    "array3=np.array(list3)\n",
    "print(array3,array3.dtype)\n",
    "\n",
    "# list3 같은 경우 1,2 를 실수형으로 변환하는 것은 낭비임\n",
    "# 고로 3.0을 정수 타입으로 변환하는 것이 메모리 절약에 도움됨\n",
    "# astype을 활용\n",
    "\n",
    "array_int = np.array([1,2,3])\n",
    "array_float = array_int.astype('float64')    # int를 float로\n",
    "print(array_float, array_float.dtype)\n",
    "\n",
    "array_int1=array_float.astype('int32')    # float를 int로\n",
    "print(array_int1, array_int1.dtype)\n",
    "\n",
    "array_float1=np.array([1.1,2.1,3.1])    # float를 int로\n",
    "array_int2=array_float1.astype('int32')\n",
    "print(array_int2,array_int2.dtype)\n"
   ]
  },
  {
   "cell_type": "code",
   "execution_count": 8,
   "id": "75d3ed07",
   "metadata": {},
   "outputs": [
    {
     "name": "stdout",
     "output_type": "stream",
     "text": [
      "[0 1 2 3 4 5 6 7 8 9]\n",
      "int32 (10,)\n",
      "[[0 0]\n",
      " [0 0]\n",
      " [0 0]]\n",
      "int32 (3, 2)\n",
      "[[1. 1.]\n",
      " [1. 1.]\n",
      " [1. 1.]]\n",
      "float64 (3, 2)\n"
     ]
    }
   ],
   "source": [
    "# ndarray 편리하게 생성하기\n",
    "# arange, zeros, ones 활용\n",
    "\n",
    "# arange\n",
    "sequence_array=np.arange(10)\n",
    "print(sequence_array)\n",
    "print(sequence_array.dtype, sequence_array.shape)\n",
    "\n",
    "# zeros, ones\n",
    "zero_array=np.zeros((3,2),dtype='int32')    # 데이터 타입 미설정 시 float형으로 초기화\n",
    "print(zero_array)\n",
    "print(zero_array.dtype, zero_array.shape)\n",
    "\n",
    "one_array=np.ones((3,2))    # 그래서 얘는 데이터 타입이 float형 ㅇㅋ?\n",
    "print(one_array)\n",
    "print(one_array.dtype, one_array.shape)"
   ]
  },
  {
   "cell_type": "code",
   "execution_count": 15,
   "id": "c571c9d2",
   "metadata": {},
   "outputs": [
    {
     "name": "stdout",
     "output_type": "stream",
     "text": [
      "array1:\n",
      " [0 1 2 3 4 5 6 7 8 9]\n",
      "array2:\n",
      " [[0 1 2 3 4]\n",
      " [5 6 7 8 9]]\n",
      "array3:\n",
      " [[0 1]\n",
      " [2 3]\n",
      " [4 5]\n",
      " [6 7]\n",
      " [8 9]]\n",
      "array4:\n",
      " [[0 1 2 3 4]\n",
      " [5 6 7 8 9]]\n",
      "array5:\n",
      " [[0 1]\n",
      " [2 3]\n",
      " [4 5]\n",
      " [6 7]\n",
      " [8 9]]\n",
      "array3d:\n",
      " [[[0, 1], [2, 3]], [[4, 5], [6, 7]]]\n",
      "array7:\n",
      " [[0], [1], [2], [3], [4], [5], [6], [7]]\n",
      "array7 shape: (8, 1)\n",
      "array8:\n",
      " [[0], [1], [2], [3], [4], [5], [6], [7]]\n",
      "array8 shape: (8, 1)\n"
     ]
    }
   ],
   "source": [
    "# reshape()\n",
    "# ndarray를 특정 차원 및 크기로 변환\n",
    "\n",
    "array1=np.arange(10)\n",
    "print('array1:\\n',array1)\n",
    "\n",
    "array2=array1.reshape(2,5)    # 2행 5열\n",
    "print('array2:\\n',array2)\n",
    "\n",
    "array3=array1.reshape(5,2)    # 5행 2열\n",
    "print('array3:\\n',array3)\n",
    "\n",
    "# 인자를 -1로 사용하는 경우\n",
    "array4=array1.reshape(-1,5)    # 자동으로 조정해준다. 10개의 데이터가 있고 5개의 열을 설정하면 -1을 사용했을 때 행을 2로 설정해줌\n",
    "print('array4:\\n',array4)\n",
    "\n",
    "array5=array1.reshape(5,-1)    # 마찬가지로 행이 5니까 열을 2로 설정. 참고로 low는 열 column은 행\n",
    "print('array5:\\n',array5)\n",
    "\n",
    "# array6=array1.reshape(4,-1) -> 오류\n",
    "# 주로 reshape(-1,1)로 자주 사용된다.\n",
    "\n",
    "array6=np.arange(8)\n",
    "array3d=array6.reshape((2,2,2))\n",
    "print('array3d:\\n',array3d.tolist())    # tolist: 리스트로 변환\n",
    "\n",
    "# 3차원 ndarray를 2차원으로 변환\n",
    "array7=array3d.reshape(-1,1)\n",
    "print('array7:\\n', array7.tolist())\n",
    "print('array7 shape:', array7.shape)\n",
    "\n",
    "# 1차원을 2차원으로 변환\n",
    "array8=array6.reshape(-1,1)\n",
    "print('array8:\\n', array8.tolist())\n",
    "print('array8 shape:', array8.shape)"
   ]
  },
  {
   "cell_type": "code",
   "execution_count": 6,
   "id": "85bdcff4",
   "metadata": {},
   "outputs": [
    {
     "name": "stdout",
     "output_type": "stream",
     "text": [
      "array1: [1 2 3 4 5 6 7 8 9]\n",
      "value: 3\n",
      "<class 'numpy.int32'>\n",
      "맨 뒤의 값: 9  맨 뒤에서 두 번째 값: 8\n",
      "array1: [9 2 3 4 5 6 7 8 0]\n",
      "[[1 2 3]\n",
      " [4 5 6]\n",
      " [7 8 9]]\n",
      "(row=0, col=0) index 가리키는 값: 1\n",
      "(row=0, col=1) index 가리키는 값: 2\n",
      "(row=1, col=0) index 가리키는 값: 4\n",
      "(row=2, col=2) index 가리키는 값: 9\n"
     ]
    }
   ],
   "source": [
    "# 인덱싱 : ndarray 내의 일부 데이터 세트나 특정 데이터만을 선택할 수 있도록 함\n",
    "# 1. 특정한 데이터만 추출\n",
    "# 2. 슬라이싱\n",
    "# 3. 팬시 인덱싱\n",
    "# 4. 불린 인덱싱\n",
    "\n",
    "# 1. 특정한 데이터만 추출 : 원하는 위치의 인덱스 값을 지정하면 해당 위치의 데이터가 반환\n",
    "# 단일 값 추출\n",
    "# 1차원\n",
    "\n",
    "array1 = np.arange(start=1,stop=10)\n",
    "print('array1:',array1)\n",
    "value=array1[2]\n",
    "print('value:',value)\n",
    "print(type(value))\n",
    "print('맨 뒤의 값:',array1[-1],' 맨 뒤에서 두 번째 값:',array1[-2])    # 배열에서 -1은 맨 마지막, -2는 마지막 앞을 의미\n",
    "array1[0] = 9\n",
    "array1[8] = 0\n",
    "print('array1:',array1)    # 값 변경 가능\n",
    "\n",
    "# 2차원\n",
    "array1d=np.arange(start=1,stop=10)\n",
    "array2d=array1d.reshape(3,3)\n",
    "print(array2d)\n",
    "\n",
    "print('(row=0, col=0) index 가리키는 값:',array2d[0,0])\n",
    "print('(row=0, col=1) index 가리키는 값:',array2d[0,1])\n",
    "print('(row=1, col=0) index 가리키는 값:',array2d[1,0])\n",
    "print('(row=2, col=2) index 가리키는 값:',array2d[2,2])\n",
    "\n"
   ]
  },
  {
   "cell_type": "code",
   "execution_count": null,
   "id": "0be3d34e",
   "metadata": {},
   "outputs": [],
   "source": []
  }
 ],
 "metadata": {
  "kernelspec": {
   "display_name": "Python 3 (ipykernel)",
   "language": "python",
   "name": "python3"
  },
  "language_info": {
   "codemirror_mode": {
    "name": "ipython",
    "version": 3
   },
   "file_extension": ".py",
   "mimetype": "text/x-python",
   "name": "python",
   "nbconvert_exporter": "python",
   "pygments_lexer": "ipython3",
   "version": "3.9.7"
  }
 },
 "nbformat": 4,
 "nbformat_minor": 5
}
